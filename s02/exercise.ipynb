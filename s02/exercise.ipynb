{
 "cells": [
  {
   "cell_type": "code",
   "execution_count": 2,
   "metadata": {},
   "outputs": [],
   "source": [
    "import numpy as np"
   ]
  },
  {
   "cell_type": "code",
   "execution_count": null,
   "metadata": {},
   "outputs": [],
   "source": [
    "x = np.array([[1,2,3,4],[-1,6,9,4]])\n",
    "#x = x.T  #tranpose\n",
    "#x = np.array([1,2,3,np.array([1,2])])\n",
    "#print(x.shape)\n",
    "#print(x.dtype)\n",
    "#print(type(x))"
   ]
  },
  {
   "cell_type": "code",
   "execution_count": null,
   "metadata": {},
   "outputs": [],
   "source": [
    "x = np.zeros((1,10))\n",
    "x"
   ]
  },
  {
   "cell_type": "code",
   "execution_count": null,
   "metadata": {},
   "outputs": [],
   "source": [
    "x = np.zeros((10,10))\n",
    "for i in range(2,10,3):\n",
    "    x[i,i]=1\n",
    "print(x)    "
   ]
  },
  {
   "cell_type": "code",
   "execution_count": null,
   "metadata": {},
   "outputs": [],
   "source": [
    "for i in range(2,10,3):\n",
    "    x[i,:]=1\n",
    "x"
   ]
  },
  {
   "cell_type": "code",
   "execution_count": null,
   "metadata": {},
   "outputs": [],
   "source": [
    "import matplotlib.pylab as plt"
   ]
  },
  {
   "cell_type": "code",
   "execution_count": null,
   "metadata": {},
   "outputs": [],
   "source": [
    "x = np.random.randint(1,7,1)\n",
    "x"
   ]
  },
  {
   "cell_type": "code",
   "execution_count": null,
   "metadata": {},
   "outputs": [],
   "source": [
    "\n",
    "#x = take_number()\n",
    "#y = take_number()\n",
    "# \n",
    "#def add(w,r):\n",
    "#    return w+r\n",
    "#    \n",
    "#def show(z):\n",
    "#    print(z)\n",
    "#    \n",
    "#show(add(x,y))\n",
    "#exit()\n",
    "\n",
    "import numpy as np\n",
    "\n",
    "y = np.random.randint(100)\n",
    "\n",
    "def take_number():\n",
    "    x = input('guess a number : ')\n",
    "    x = int(x)\n",
    "    return x\n",
    "    \n",
    " \n",
    "print(x)\n",
    "\n",
    "while True:\n",
    "    x = take_number()  \n",
    "    if x>y:\n",
    "        print('Hi, your number is too large!')       \n",
    "    elif y>x:\n",
    "        print('Hi, your number is too small!')\n",
    "    else:\n",
    "        print('Dammet garm!')\n",
    "        break"
   ]
  },
  {
   "cell_type": "markdown",
   "metadata": {},
   "source": [
    "# Exercise"
   ]
  },
  {
   "cell_type": "markdown",
   "metadata": {},
   "source": [
    "### 1: calculate factorial"
   ]
  },
  {
   "cell_type": "code",
   "execution_count": 6,
   "metadata": {},
   "outputs": [
    {
     "name": "stdout",
     "output_type": "stream",
     "text": [
      "enter number to calculate factorial : 5\n",
      "120\n"
     ]
    }
   ],
   "source": [
    "\n",
    "def take_number():\n",
    "    x = input('enter number to calculate factorial : ')\n",
    "    x = int(x)\n",
    "    return x\n",
    "\n",
    "x = take_number()\n",
    "y = 1;\n",
    "while(x != 1):\n",
    "    y = y * x\n",
    "    x = x - 1\n",
    "\n",
    "print(y)"
   ]
  },
  {
   "cell_type": "markdown",
   "metadata": {},
   "source": [
    "### 2: checks if  a input number is prime"
   ]
  },
  {
   "cell_type": "code",
   "execution_count": 18,
   "metadata": {},
   "outputs": [
    {
     "name": "stdout",
     "output_type": "stream",
     "text": [
      "enter number to check if number is prime : 6\n",
      "2\n",
      "number is prime:  False\n"
     ]
    }
   ],
   "source": [
    "import math \n",
    "\n",
    "def take_number():\n",
    "    x = input('enter number to check if number is prime : ')\n",
    "    x = int(x)\n",
    "    return x\n",
    "\n",
    "def is_prime(number):\n",
    "    if (number <= 1):\n",
    "        return False\n",
    "    max_div = math.floor(math.sqrt(number)) \n",
    "    for i in range(2,1+max_div):\n",
    "        if (number % i == 0):\n",
    "            return False        \n",
    "    return True\n",
    "    \n",
    "x = take_number()\n",
    "y = is_prime(x)\n",
    "print(\"number is prime: \",y)"
   ]
  },
  {
   "cell_type": "markdown",
   "metadata": {},
   "source": [
    "### 3: specific letter\n",
    " Write a function which returns all words started with a specific letter (for example a) and ended with \n",
    "another specific letter from a given text file. The input will be the file name. The function should take \n",
    "the file name and make a list of the words.\n",
    "\n",
    "input:\n",
    "\n",
    "    file name (string)\n",
    "    \n",
    "    first letter (string)\n",
    "    \n",
    "    second letter (string)\n",
    "    \n",
    "output:\n",
    "\n",
    "    list of the words (list)"
   ]
  },
  {
   "cell_type": "code",
   "execution_count": 14,
   "metadata": {},
   "outputs": [
    {
     "name": "stdout",
     "output_type": "stream",
     "text": [
      "['the', 'The', 'true', 'True', 'The', 'the', 'The', 'take', 'the', 'the', 'the', 'The', 'the', 'the', 'the', 'the', 'the']\n"
     ]
    }
   ],
   "source": [
    "\n",
    "# Python program to read  \n",
    "# file word by word \n",
    "check_start = 'T'\n",
    "check_end = 'e'\n",
    "specific=[]\n",
    "# opening the text file \n",
    "with open('exercise','r') as file: \n",
    "   \n",
    "    # reading each line     \n",
    "    for line in file: \n",
    "   \n",
    "        # reading each word         \n",
    "        for word in line.split(): \n",
    "   \n",
    "            # displaying the words            \n",
    "            #print(word)\n",
    "            if (word[0].lower() == check_start.lower() and word[-1].lower() == check_end.lower()):\n",
    "                specific.append(word);\n",
    "print(specific)\n",
    "        "
   ]
  },
  {
   "cell_type": "markdown",
   "metadata": {},
   "source": [
    "### 4: repace word\n",
    "\n",
    "Write a function which finds and replaces \"word 1\" with \"word 2\" in a text file. The input will be the\n",
    " file name and the output should be the new (word replaced) string.\n",
    " \n",
    " input:\n",
    "\n",
    "    file name (string)\n",
    "\n",
    "    first word (string)\n",
    "\n",
    "    second word (string)\n",
    "\n",
    "output:\n",
    "\n",
    "    the word replaced text (string)"
   ]
  },
  {
   "cell_type": "code",
   "execution_count": 16,
   "metadata": {},
   "outputs": [],
   "source": [
    "#import sys\n",
    "#import numpy as np\n",
    "\n",
    "def repalce(f,first,second):\n",
    "    fin = open(f, \"rt\")\n",
    "    fout = open(\"out\", \"wt\")\n",
    "    #for each line in the input file\n",
    "    for line in fin:\n",
    "        #read replace the string and write to output file\n",
    "        fout.write(line.replace(first, second))\n",
    "    #close input and output files\n",
    "    fin.close()\n",
    "    fout.close()\n",
    "\n",
    "# file        = sys.argv[1]\n",
    "# first_word  = sys.argv[2]\n",
    "# second_word = sys.argv[3]\n",
    "\n",
    "\n",
    "file        = 'exercise'\n",
    "first_word  = 'letter'\n",
    "second_word = 'char'\n",
    "# opening the text file\n",
    "\n",
    "repalce(file, first_word, second_word)"
   ]
  }
 ],
 "metadata": {
  "kernelspec": {
   "display_name": "Python 3",
   "language": "python",
   "name": "python3"
  },
  "language_info": {
   "codemirror_mode": {
    "name": "ipython",
    "version": 3
   },
   "file_extension": ".py",
   "mimetype": "text/x-python",
   "name": "python",
   "nbconvert_exporter": "python",
   "pygments_lexer": "ipython3",
   "version": "3.8.5"
  }
 },
 "nbformat": 4,
 "nbformat_minor": 4
}
