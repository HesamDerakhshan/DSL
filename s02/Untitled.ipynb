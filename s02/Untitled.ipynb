{
 "cells": [
  {
   "cell_type": "code",
   "execution_count": null,
   "metadata": {},
   "outputs": [],
   "source": [
    "import numpy as np"
   ]
  },
  {
   "cell_type": "code",
   "execution_count": null,
   "metadata": {},
   "outputs": [],
   "source": [
    "x = np.array([[1,2,3,4],[-1,6,9,4]])\n",
    "#x = x.T  #tranpose\n",
    "#x = np.array([1,2,3,np.array([1,2])])\n",
    "#print(x.shape)\n",
    "#print(x.dtype)\n",
    "#print(type(x))"
   ]
  },
  {
   "cell_type": "code",
   "execution_count": null,
   "metadata": {},
   "outputs": [],
   "source": [
    "x = np.zeros((1,10))\n",
    "x"
   ]
  },
  {
   "cell_type": "code",
   "execution_count": null,
   "metadata": {},
   "outputs": [],
   "source": [
    "x = np.zeros((10,10))\n",
    "for i in range(2,10,3):\n",
    "    x[i,i]=1\n",
    "print(x)    "
   ]
  },
  {
   "cell_type": "code",
   "execution_count": null,
   "metadata": {},
   "outputs": [],
   "source": [
    "for i in range(2,10,3):\n",
    "    x[i,:]=1\n",
    "x"
   ]
  },
  {
   "cell_type": "code",
   "execution_count": null,
   "metadata": {},
   "outputs": [],
   "source": [
    "import matplotlib.pylab as plt"
   ]
  },
  {
   "cell_type": "code",
   "execution_count": null,
   "metadata": {},
   "outputs": [],
   "source": [
    "x = np.random.randint(1,7,1)\n",
    "x"
   ]
  },
  {
   "cell_type": "code",
   "execution_count": null,
   "metadata": {},
   "outputs": [],
   "source": [
    "\n",
    "#x = take_number()\n",
    "#y = take_number()\n",
    "# \n",
    "#def add(w,r):\n",
    "#    return w+r\n",
    "#    \n",
    "#def show(z):\n",
    "#    print(z)\n",
    "#    \n",
    "#show(add(x,y))\n",
    "#exit()\n",
    "\n",
    "import numpy as np\n",
    "\n",
    "y = np.random.randint(100)\n",
    "\n",
    "def take_number():\n",
    "    x = input('guess a number : ')\n",
    "    x = int(x)\n",
    "    return x\n",
    "    \n",
    " \n",
    "print(x)\n",
    "\n",
    "while True:\n",
    "    x = take_number()  \n",
    "    if x>y:\n",
    "        print('Hi, your number is too large!')       \n",
    "    elif y>x:\n",
    "        print('Hi, your number is too small!')\n",
    "    else:\n",
    "        print('Dammet garm!')\n",
    "        break"
   ]
  },
  {
   "cell_type": "markdown",
   "metadata": {},
   "source": [
    "# Exercise"
   ]
  },
  {
   "cell_type": "markdown",
   "metadata": {},
   "source": [
    "### calculate factorial"
   ]
  },
  {
   "cell_type": "code",
   "execution_count": 6,
   "metadata": {},
   "outputs": [
    {
     "name": "stdout",
     "output_type": "stream",
     "text": [
      "enter number to calculate factorial : 5\n",
      "120\n"
     ]
    }
   ],
   "source": [
    "\n",
    "def take_number():\n",
    "    x = input('enter number to calculate factorial : ')\n",
    "    x = int(x)\n",
    "    return x\n",
    "\n",
    "x = take_number()\n",
    "y = 1;\n",
    "while(x != 1):\n",
    "    y = y * x\n",
    "    x = x - 1\n",
    "\n",
    "print(y)"
   ]
  },
  {
   "cell_type": "markdown",
   "metadata": {},
   "source": [
    "### checks if  a input number is prime"
   ]
  },
  {
   "cell_type": "code",
   "execution_count": 18,
   "metadata": {},
   "outputs": [
    {
     "name": "stdout",
     "output_type": "stream",
     "text": [
      "enter number to check if number is prime : 6\n",
      "2\n",
      "number is prime:  False\n"
     ]
    }
   ],
   "source": [
    "import math \n",
    "\n",
    "def take_number():\n",
    "    x = input('enter number to check if number is prime : ')\n",
    "    x = int(x)\n",
    "    return x\n",
    "\n",
    "def is_prime(number):\n",
    "    if (number <= 1):\n",
    "        return False\n",
    "    max_div = math.floor(math.sqrt(number)) \n",
    "    for i in range(2,1+max_div):\n",
    "        if (number % i == 0):\n",
    "            return False        \n",
    "    return True\n",
    "    \n",
    "x = take_number()\n",
    "y = is_prime(x)\n",
    "print(\"number is prime: \",y)"
   ]
  },
  {
   "cell_type": "code",
   "execution_count": null,
   "metadata": {},
   "outputs": [],
   "source": []
  }
 ],
 "metadata": {
  "kernelspec": {
   "display_name": "Python 3",
   "language": "python",
   "name": "python3"
  },
  "language_info": {
   "codemirror_mode": {
    "name": "ipython",
    "version": 3
   },
   "file_extension": ".py",
   "mimetype": "text/x-python",
   "name": "python",
   "nbconvert_exporter": "python",
   "pygments_lexer": "ipython3",
   "version": "3.8.5"
  }
 },
 "nbformat": 4,
 "nbformat_minor": 4
}
