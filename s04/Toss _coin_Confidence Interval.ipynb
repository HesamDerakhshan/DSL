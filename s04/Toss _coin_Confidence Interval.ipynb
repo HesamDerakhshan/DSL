{
 "cells": [
  {
   "cell_type": "markdown",
   "metadata": {},
   "source": [
    "# let's toss a coin\n",
    "\n",
    "One tosses a coin 20 times and 15 heads come up! Is the coin fair?\n",
    "\n",
    "#### Hypothesis 1: This coin is biased\n",
    "\n",
    "#### Hypothesis 2: This is just by chance!\n",
    "    \n",
    "Statistical Method\n",
    "\n",
    "P(H) = ?\n",
    "\n",
    "P(HH) = ?\n",
    "\n",
    "P(THH) = ?"
   ]
  },
  {
   "cell_type": "markdown",
   "metadata": {},
   "source": [
    "## binomial\n",
    "\n",
    "$P(x)=\\frac{n!}{x!(n-x)!}p^x(1-p)^{n-x}$\n",
    "\n",
    "$P$ = binomial probability\n",
    "\n",
    "$x$ = number of times for a specific outcome within n trials\n",
    "\n",
    "$p$ = probability of success on a single trial,\n",
    "\n",
    "$q$ = probability of failure on a single trial\n",
    "\n",
    "$n$ = number of trials\n"
   ]
  },
  {
   "cell_type": "code",
   "execution_count": null,
   "metadata": {},
   "outputs": [],
   "source": [
    "# toss a coin\n",
    "# [0,1,1,0,0,1,0,1,0,1,0,1,0,1,1,0,1,0]\n",
    "\n",
    "from numpy import math \n",
    "fc = math.factorial\n",
    "n = 20\n",
    "x = 5\n",
    "p = 0.5\n",
    "fc(n)/(fc(x)*fc(n-x)) * p**x * (1-p)**(n-x)"
   ]
  },
  {
   "cell_type": "code",
   "execution_count": 2,
   "metadata": {},
   "outputs": [
    {
     "data": {
      "text/plain": [
       "0.01383"
      ]
     },
     "execution_count": 2,
     "metadata": {},
     "output_type": "execute_result"
    }
   ],
   "source": [
    "import numpy as np\n",
    "\n",
    "np.random.binomial(20,0.5)\n",
    "\n",
    "np.random.binomial(20,0.5)==15\n",
    "\n",
    "ntry = 100000\n",
    "np.sum(np.random.binomial(20,0.5,ntry)==15)/ntry"
   ]
  },
  {
   "cell_type": "markdown",
   "metadata": {},
   "source": [
    "# Persian carpet company  optimized its advertising methods\n",
    "\n",
    "\n",
    "#### Hypothesis 1: The optimization didn't work :(\n",
    "\n",
    "#### Hypothesis 2: Yesss! It works!"
   ]
  },
  {
   "cell_type": "code",
   "execution_count": null,
   "metadata": {},
   "outputs": [],
   "source": [
    "#sale per month\n",
    "before_opt = np.array([23, 21, 19, 24, 35, 17, 18, 24, 33, 27, 21, 23])\n",
    "after_opt = np.array([31, 28, 19, 24, 32, 27, 16, 41, 23, 32, 29, 33])"
   ]
  },
  {
   "cell_type": "code",
   "execution_count": 1,
   "metadata": {},
   "outputs": [],
   "source": [
    "import pylab as plt"
   ]
  },
  {
   "cell_type": "code",
   "execution_count": null,
   "metadata": {},
   "outputs": [],
   "source": [
    "plt.hist(before_opt);\n",
    "plt.hist(after_opt);"
   ]
  },
  {
   "cell_type": "code",
   "execution_count": null,
   "metadata": {},
   "outputs": [],
   "source": [
    "before_opt.mean(),after_opt.mean() #per month"
   ]
  },
  {
   "cell_type": "code",
   "execution_count": null,
   "metadata": {},
   "outputs": [],
   "source": [
    "before_opt.sum(),after_opt.sum()  #total"
   ]
  },
  {
   "cell_type": "code",
   "execution_count": null,
   "metadata": {},
   "outputs": [],
   "source": [
    "diff_obs = after_opt.mean()-before_opt.mean()\n",
    "diff_obs"
   ]
  },
  {
   "cell_type": "markdown",
   "metadata": {},
   "source": [
    "### Checking this optimization worked or not!"
   ]
  },
  {
   "cell_type": "code",
   "execution_count": null,
   "metadata": {},
   "outputs": [],
   "source": [
    "experiment = np.append(before_opt,after_opt)\n",
    "experiment"
   ]
  },
  {
   "cell_type": "code",
   "execution_count": null,
   "metadata": {},
   "outputs": [],
   "source": [
    "diffs = []\n",
    "for i in range(100000):\n",
    "    np.random.shuffle(experiment)  # shuffle two array\n",
    "    set1 = experiment[:12]\n",
    "    set2 = experiment[12:]\n",
    "    diffs.append(set1.mean()-set2.mean())\n",
    "diffs = np.array(diffs)\n",
    "diffs"
   ]
  },
  {
   "cell_type": "code",
   "execution_count": null,
   "metadata": {},
   "outputs": [],
   "source": [
    "np.mean(diffs<diff_obs)*100  # 94.1% this optimaz worked"
   ]
  },
  {
   "cell_type": "code",
   "execution_count": null,
   "metadata": {},
   "outputs": [],
   "source": [
    "#other company sale per month\n",
    "before_opt = np.array([230, 210, 190, 240, 350, 170, 180, 240, 330, 270, 210, 230])\n",
    "after_opt = np.array([310, 180, 190, 240, 220, 240, 160, 410, 130, 320, 290, 210])"
   ]
  },
  {
   "cell_type": "code",
   "execution_count": null,
   "metadata": {},
   "outputs": [],
   "source": [
    "diff_obs = after_opt.mean()-before_opt.mean()\n",
    "diff_obs"
   ]
  },
  {
   "cell_type": "code",
   "execution_count": null,
   "metadata": {},
   "outputs": [],
   "source": [
    "experiment = np.append(before_opt,after_opt)\n",
    "experiment"
   ]
  },
  {
   "cell_type": "code",
   "execution_count": null,
   "metadata": {},
   "outputs": [],
   "source": [
    "np.random.shuffle(experiment)\n",
    "experiment"
   ]
  },
  {
   "cell_type": "code",
   "execution_count": null,
   "metadata": {},
   "outputs": [],
   "source": [
    "diffs = []\n",
    "for i in range(10000):\n",
    "    np.random.shuffle(experiment)\n",
    "    set1 = experiment[:12]\n",
    "    set2 = experiment[12:]\n",
    "    diffs.append(set1.mean()-set2.mean())\n",
    "diffs = np.array(diffs)"
   ]
  },
  {
   "cell_type": "code",
   "execution_count": null,
   "metadata": {},
   "outputs": [],
   "source": [
    "np.mean(diffs<diff_obs)*100  # 55% this optimaz worked"
   ]
  },
  {
   "cell_type": "markdown",
   "metadata": {},
   "source": [
    "### what percentage increase sale per month in two compant"
   ]
  },
  {
   "cell_type": "code",
   "execution_count": 28,
   "metadata": {},
   "outputs": [
    {
     "name": "stdout",
     "output_type": "stream",
     "text": [
      "17.543859649122812\n"
     ]
    }
   ],
   "source": [
    "before_opt = np.array([23, 21, 19, 24, 35, 17, 18, 24, 33, 27, 21, 23])\n",
    "after_opt = np.array([31, 28, 19, 24, 32, 27, 16, 41, 23, 32, 29, 33])\n",
    "print ((np.mean(after_opt) - np.mean(before_opt))/np.mean(before_opt)*100) \n",
    "# this masure shows percantage of incrase sale"
   ]
  },
  {
   "cell_type": "code",
   "execution_count": 29,
   "metadata": {},
   "outputs": [
    {
     "name": "stdout",
     "output_type": "stream",
     "text": [
      "1.7543859649122768\n"
     ]
    }
   ],
   "source": [
    "\n",
    "\n",
    "before_opt = np.array([230, 210, 190, 240, 350, 170, 180, 240, 330, 270, 210, 230])\n",
    "after_opt = np.array([310, 180, 190, 240, 220, 240, 160, 410, 130, 320, 290, 210])\n",
    "\n",
    "print ((np.mean(after_opt) - np.mean(before_opt))/np.mean(before_opt)*100)\n",
    "# this masure shows percantage of incrase sale"
   ]
  },
  {
   "cell_type": "markdown",
   "metadata": {},
   "source": [
    "# Confidence Interval"
   ]
  },
  {
   "cell_type": "code",
   "execution_count": 3,
   "metadata": {},
   "outputs": [],
   "source": [
    "before_opt = np.array([23, 21, 19, 24, 35, 17, 18, 24, 33, 27, 21, 23])\n",
    "after_opt = np.array([31, 28, 19, 24, 32, 27, 16, 41, 23, 32, 29, 33])"
   ]
  },
  {
   "cell_type": "code",
   "execution_count": 8,
   "metadata": {},
   "outputs": [
    {
     "data": {
      "text/plain": [
       "array([24, 24, 33, 19, 35, 19, 17, 35, 35, 24, 17, 24])"
      ]
     },
     "execution_count": 8,
     "metadata": {},
     "output_type": "execute_result"
    }
   ],
   "source": [
    "# 10 choice from list (choice can be repeat (replace=True) )\n",
    "random_before_opt = np.random.choice(before_opt, size=12, replace=True)  \n",
    "random_before_opt"
   ]
  },
  {
   "cell_type": "code",
   "execution_count": 18,
   "metadata": {},
   "outputs": [],
   "source": [
    "diffs = []\n",
    "for i in range(1000):\n",
    "    # 12 choice from list (choice can be repeat (replace=True) )\n",
    "    random_before_opt = np.random.choice(before_opt, size=12, replace=True)\n",
    "    random_after_opt = np.random.choice(after_opt, size=12, replace=True)\n",
    "    diffs.append(np.mean(random_after_opt) - np.mean(random_before_opt))\n"
   ]
  },
  {
   "cell_type": "code",
   "execution_count": 30,
   "metadata": {},
   "outputs": [
    {
     "data": {
      "text/plain": [
       "array([-4.16666667e-03,  7.75000000e+00])"
      ]
     },
     "execution_count": 30,
     "metadata": {},
     "output_type": "execute_result"
    }
   ],
   "source": [
    "perc = np.percentile(diffs, [5,95])  # 5-95% in 100%\n",
    "perc\n",
    "# this masure shows percantage of incrase sale"
   ]
  },
  {
   "cell_type": "code",
   "execution_count": 31,
   "metadata": {},
   "outputs": [
    {
     "data": {
      "text/plain": [
       "[<matplotlib.lines.Line2D at 0x7febe88f6e20>]"
      ]
     },
     "execution_count": 31,
     "metadata": {},
     "output_type": "execute_result"
    },
    {
     "data": {
      "image/png": "[encoded data removed]",
      "text/plain": [
       "<Figure size 432x288 with 1 Axes>"
      ]
     },
     "metadata": {
      "needs_background": "light"
     },
     "output_type": "display_data"
    }
   ],
   "source": [
    "plt.hist(diffs,20)\n",
    "mm = np.mean(diffs)\n",
    "plt.plot([perc[0]]*2,[0,140],'r--')\n",
    "plt.plot([perc[1]]*2,[0,140],'r--')"
   ]
  },
  {
   "cell_type": "code",
   "execution_count": 15,
   "metadata": {},
   "outputs": [
    {
     "data": {
      "text/plain": [
       "array([-4.16666667e-03,  7.92083333e+00])"
      ]
     },
     "execution_count": 15,
     "metadata": {},
     "output_type": "execute_result"
    }
   ],
   "source": [
    "np.percentile(diffs,[5,95])"
   ]
  },
  {
   "cell_type": "code",
   "execution_count": 12,
   "metadata": {},
   "outputs": [
    {
     "data": {
      "text/plain": [
       "1.0"
      ]
     },
     "execution_count": 12,
     "metadata": {},
     "output_type": "execute_result"
    }
   ],
   "source": [
    "np.percentile([1,1,1,1,1,1,1,1,1,100],80)"
   ]
  },
  {
   "cell_type": "markdown",
   "metadata": {},
   "source": []
  },
  {
   "cell_type": "code",
   "execution_count": null,
   "metadata": {},
   "outputs": [],
   "source": []
  }
 ],
 "metadata": {
  "kernelspec": {
   "display_name": "Python 3",
   "language": "python",
   "name": "python3"
  },
  "language_info": {
   "codemirror_mode": {
    "name": "ipython",
    "version": 3
   },
   "file_extension": ".py",
   "mimetype": "text/x-python",
   "name": "python",
   "nbconvert_exporter": "python",
   "pygments_lexer": "ipython3",
   "version": "3.8.5"
  }
 },
 "nbformat": 4,
 "nbformat_minor": 4
}
