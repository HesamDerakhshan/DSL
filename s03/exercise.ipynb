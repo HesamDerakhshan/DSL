{
 "cells": [
  {
   "cell_type": "code",
   "execution_count": 2,
   "metadata": {},
   "outputs": [],
   "source": [
    "import numpy as np\n",
    "import pylab as plt\n",
    "import pandas as pd"
   ]
  },
  {
   "cell_type": "markdown",
   "metadata": {},
   "source": [
    "### exercise 1\n",
    " For a given value p0, how many times Tesla stock price (min and max average) gets more than p0. \n",
    "dataset: tesla-stock-price.csv\n",
    "\n",
    "input: \n",
    "\n",
    "    p0 (float)\n",
    "    \n",
    "output: \n",
    "\n",
    "    number of occurrence (int)"
   ]
  },
  {
   "cell_type": "code",
   "execution_count": 20,
   "metadata": {},
   "outputs": [],
   "source": [
    "dftesla = pd.read_csv('datasets/tesla-stock-price.csv')\n",
    "x = dftesla['date'].values\n",
    "o = dftesla['open'].values\n",
    "c = dftesla['high'].values\n",
    "h = dftesla['high'].values\n",
    "l = dftesla['low'].values\n",
    "p0 =300"
   ]
  },
  {
   "cell_type": "code",
   "execution_count": 21,
   "metadata": {},
   "outputs": [],
   "source": [
    "dflow = dftesla[dftesla['low'] < p0 ]\n"
   ]
  },
  {
   "cell_type": "code",
   "execution_count": 22,
   "metadata": {},
   "outputs": [],
   "source": [
    "dfhight =dflow[dflow['high'] > p0].shape"
   ]
  },
  {
   "cell_type": "code",
   "execution_count": 23,
   "metadata": {},
   "outputs": [
    {
     "data": {
      "text/plain": [
       "51"
      ]
     },
     "execution_count": 23,
     "metadata": {},
     "output_type": "execute_result"
    }
   ],
   "source": [
    "dfhight[0]"
   ]
  },
  {
   "cell_type": "markdown",
   "metadata": {},
   "source": [
    "### exercise 2\n",
    "\n",
    "How many significant earthquakes occurred in a give country?\n",
    "\n",
    "dataset: significant-earthquakes.csv\n",
    "\n",
    "input: \n",
    "\n",
    "    country name (string)\n",
    "    \n",
    "output:\n",
    "\n",
    "    number of occurrence (int)\n"
   ]
  },
  {
   "cell_type": "code",
   "execution_count": 3,
   "metadata": {},
   "outputs": [],
   "source": [
    "dfeq = pd.read_csv('datasets/significant-earthquakes.csv')"
   ]
  },
  {
   "cell_type": "code",
   "execution_count": 5,
   "metadata": {},
   "outputs": [],
   "source": [
    "#input\n",
    "contry = 'Iran'"
   ]
  },
  {
   "cell_type": "code",
   "execution_count": 6,
   "metadata": {},
   "outputs": [],
   "source": [
    "#rename index\n",
    "dfeq = dfeq.rename(columns={'Number of significant earthquakes (significant earthquakes)':'sig'})\n"
   ]
  },
  {
   "cell_type": "code",
   "execution_count": 19,
   "metadata": {},
   "outputs": [
    {
     "data": {
      "text/plain": [
       "369"
      ]
     },
     "execution_count": 19,
     "metadata": {},
     "output_type": "execute_result"
    }
   ],
   "source": [
    "df_sig = dfeq[(dfeq['Entity']==contry)]\n",
    "#dfeq['sig'].max()\n",
    "sig = df_sig['sig'].values\n",
    "sig.sum()"
   ]
  },
  {
   "cell_type": "markdown",
   "metadata": {},
   "source": [
    "### exercise 3\n",
    "\n",
    " For a given list of countries, what is the average U5MR (under 5 morality rate) ratio between two genders in last year. (girls/boys) \n",
    "datset: su5m.csv"
   ]
  },
  {
   "cell_type": "code",
   "execution_count": 3,
   "metadata": {},
   "outputs": [
    {
     "data": {
      "text/html": [
       "<div>\n",
       "<style scoped>\n",
       "    .dataframe tbody tr th:only-of-type {\n",
       "        vertical-align: middle;\n",
       "    }\n",
       "\n",
       "    .dataframe tbody tr th {\n",
       "        vertical-align: top;\n",
       "    }\n",
       "\n",
       "    .dataframe thead th {\n",
       "        text-align: right;\n",
       "    }\n",
       "</style>\n",
       "<table border=\"1\" class=\"dataframe\">\n",
       "  <thead>\n",
       "    <tr style=\"text-align: right;\">\n",
       "      <th></th>\n",
       "      <th>Unnamed: 0</th>\n",
       "      <th>ccode</th>\n",
       "      <th>country</th>\n",
       "      <th>m1990</th>\n",
       "      <th>m2000</th>\n",
       "      <th>m2010</th>\n",
       "      <th>m2015</th>\n",
       "      <th>m2017</th>\n",
       "      <th>f1990</th>\n",
       "      <th>f2000</th>\n",
       "      <th>f2010</th>\n",
       "      <th>f2015</th>\n",
       "      <th>f2017</th>\n",
       "    </tr>\n",
       "  </thead>\n",
       "  <tbody>\n",
       "    <tr>\n",
       "      <th>0</th>\n",
       "      <td>0</td>\n",
       "      <td>AFG</td>\n",
       "      <td>Afghanistan</td>\n",
       "      <td>180.1</td>\n",
       "      <td>133.5</td>\n",
       "      <td>94.2</td>\n",
       "      <td>77.2</td>\n",
       "      <td>71.8</td>\n",
       "      <td>169.7</td>\n",
       "      <td>123.8</td>\n",
       "      <td>85.5</td>\n",
       "      <td>68.8</td>\n",
       "      <td>63.7</td>\n",
       "    </tr>\n",
       "    <tr>\n",
       "      <th>1</th>\n",
       "      <td>1</td>\n",
       "      <td>ALB</td>\n",
       "      <td>Albania</td>\n",
       "      <td>43.7</td>\n",
       "      <td>26.7</td>\n",
       "      <td>13.0</td>\n",
       "      <td>10.1</td>\n",
       "      <td>9.5</td>\n",
       "      <td>36.4</td>\n",
       "      <td>22.2</td>\n",
       "      <td>11.0</td>\n",
       "      <td>8.6</td>\n",
       "      <td>8.1</td>\n",
       "    </tr>\n",
       "    <tr>\n",
       "      <th>2</th>\n",
       "      <td>2</td>\n",
       "      <td>DZA</td>\n",
       "      <td>Algeria</td>\n",
       "      <td>53.7</td>\n",
       "      <td>42.5</td>\n",
       "      <td>28.9</td>\n",
       "      <td>26.4</td>\n",
       "      <td>25.5</td>\n",
       "      <td>45.3</td>\n",
       "      <td>36.7</td>\n",
       "      <td>25.8</td>\n",
       "      <td>23.5</td>\n",
       "      <td>22.5</td>\n",
       "    </tr>\n",
       "    <tr>\n",
       "      <th>3</th>\n",
       "      <td>3</td>\n",
       "      <td>AND</td>\n",
       "      <td>Andorra</td>\n",
       "      <td>9.4</td>\n",
       "      <td>5.4</td>\n",
       "      <td>4.3</td>\n",
       "      <td>3.9</td>\n",
       "      <td>3.6</td>\n",
       "      <td>7.6</td>\n",
       "      <td>4.5</td>\n",
       "      <td>3.6</td>\n",
       "      <td>3.2</td>\n",
       "      <td>3.0</td>\n",
       "    </tr>\n",
       "    <tr>\n",
       "      <th>4</th>\n",
       "      <td>4</td>\n",
       "      <td>AGO</td>\n",
       "      <td>Angola</td>\n",
       "      <td>235.0</td>\n",
       "      <td>217.5</td>\n",
       "      <td>129.2</td>\n",
       "      <td>95.1</td>\n",
       "      <td>86.9</td>\n",
       "      <td>211.6</td>\n",
       "      <td>194.5</td>\n",
       "      <td>113.1</td>\n",
       "      <td>82.4</td>\n",
       "      <td>74.9</td>\n",
       "    </tr>\n",
       "    <tr>\n",
       "      <th>...</th>\n",
       "      <td>...</td>\n",
       "      <td>...</td>\n",
       "      <td>...</td>\n",
       "      <td>...</td>\n",
       "      <td>...</td>\n",
       "      <td>...</td>\n",
       "      <td>...</td>\n",
       "      <td>...</td>\n",
       "      <td>...</td>\n",
       "      <td>...</td>\n",
       "      <td>...</td>\n",
       "      <td>...</td>\n",
       "      <td>...</td>\n",
       "    </tr>\n",
       "    <tr>\n",
       "      <th>190</th>\n",
       "      <td>190</td>\n",
       "      <td>VEN</td>\n",
       "      <td>Venezuela (Bolivarian Republic of)</td>\n",
       "      <td>32.5</td>\n",
       "      <td>24.1</td>\n",
       "      <td>18.4</td>\n",
       "      <td>25.0</td>\n",
       "      <td>34.2</td>\n",
       "      <td>26.6</td>\n",
       "      <td>19.1</td>\n",
       "      <td>14.8</td>\n",
       "      <td>19.9</td>\n",
       "      <td>27.4</td>\n",
       "    </tr>\n",
       "    <tr>\n",
       "      <th>191</th>\n",
       "      <td>191</td>\n",
       "      <td>VNM</td>\n",
       "      <td>Viet Nam</td>\n",
       "      <td>59.0</td>\n",
       "      <td>34.5</td>\n",
       "      <td>26.6</td>\n",
       "      <td>25.1</td>\n",
       "      <td>24.2</td>\n",
       "      <td>43.7</td>\n",
       "      <td>24.7</td>\n",
       "      <td>19.0</td>\n",
       "      <td>18.0</td>\n",
       "      <td>17.3</td>\n",
       "    </tr>\n",
       "    <tr>\n",
       "      <th>192</th>\n",
       "      <td>192</td>\n",
       "      <td>YEM</td>\n",
       "      <td>Yemen</td>\n",
       "      <td>131.4</td>\n",
       "      <td>99.8</td>\n",
       "      <td>60.3</td>\n",
       "      <td>59.4</td>\n",
       "      <td>59.3</td>\n",
       "      <td>120.4</td>\n",
       "      <td>90.4</td>\n",
       "      <td>52.2</td>\n",
       "      <td>51.3</td>\n",
       "      <td>51.4</td>\n",
       "    </tr>\n",
       "    <tr>\n",
       "      <th>193</th>\n",
       "      <td>193</td>\n",
       "      <td>ZMB</td>\n",
       "      <td>Zambia</td>\n",
       "      <td>193.5</td>\n",
       "      <td>173.8</td>\n",
       "      <td>88.1</td>\n",
       "      <td>69.8</td>\n",
       "      <td>64.7</td>\n",
       "      <td>176.0</td>\n",
       "      <td>155.9</td>\n",
       "      <td>76.4</td>\n",
       "      <td>59.7</td>\n",
       "      <td>55.1</td>\n",
       "    </tr>\n",
       "    <tr>\n",
       "      <th>194</th>\n",
       "      <td>194</td>\n",
       "      <td>ZWE</td>\n",
       "      <td>Zimbabwe</td>\n",
       "      <td>83.8</td>\n",
       "      <td>108.5</td>\n",
       "      <td>93.7</td>\n",
       "      <td>62.0</td>\n",
       "      <td>55.0</td>\n",
       "      <td>70.9</td>\n",
       "      <td>94.6</td>\n",
       "      <td>81.0</td>\n",
       "      <td>51.8</td>\n",
       "      <td>45.4</td>\n",
       "    </tr>\n",
       "  </tbody>\n",
       "</table>\n",
       "<p>195 rows × 13 columns</p>\n",
       "</div>"
      ],
      "text/plain": [
       "     Unnamed: 0 ccode                             country  m1990  m2000  \\\n",
       "0             0   AFG                         Afghanistan  180.1  133.5   \n",
       "1             1   ALB                             Albania   43.7   26.7   \n",
       "2             2   DZA                             Algeria   53.7   42.5   \n",
       "3             3   AND                             Andorra    9.4    5.4   \n",
       "4             4   AGO                              Angola  235.0  217.5   \n",
       "..          ...   ...                                 ...    ...    ...   \n",
       "190         190   VEN  Venezuela (Bolivarian Republic of)   32.5   24.1   \n",
       "191         191   VNM                            Viet Nam   59.0   34.5   \n",
       "192         192   YEM                               Yemen  131.4   99.8   \n",
       "193         193   ZMB                              Zambia  193.5  173.8   \n",
       "194         194   ZWE                            Zimbabwe   83.8  108.5   \n",
       "\n",
       "     m2010  m2015  m2017  f1990  f2000  f2010  f2015  f2017  \n",
       "0     94.2   77.2   71.8  169.7  123.8   85.5   68.8   63.7  \n",
       "1     13.0   10.1    9.5   36.4   22.2   11.0    8.6    8.1  \n",
       "2     28.9   26.4   25.5   45.3   36.7   25.8   23.5   22.5  \n",
       "3      4.3    3.9    3.6    7.6    4.5    3.6    3.2    3.0  \n",
       "4    129.2   95.1   86.9  211.6  194.5  113.1   82.4   74.9  \n",
       "..     ...    ...    ...    ...    ...    ...    ...    ...  \n",
       "190   18.4   25.0   34.2   26.6   19.1   14.8   19.9   27.4  \n",
       "191   26.6   25.1   24.2   43.7   24.7   19.0   18.0   17.3  \n",
       "192   60.3   59.4   59.3  120.4   90.4   52.2   51.3   51.4  \n",
       "193   88.1   69.8   64.7  176.0  155.9   76.4   59.7   55.1  \n",
       "194   93.7   62.0   55.0   70.9   94.6   81.0   51.8   45.4  \n",
       "\n",
       "[195 rows x 13 columns]"
      ]
     },
     "execution_count": 3,
     "metadata": {},
     "output_type": "execute_result"
    }
   ],
   "source": [
    "dfsu5m = pd.read_csv('datasets/su5m.csv')\n",
    "dfsu5m"
   ]
  },
  {
   "cell_type": "code",
   "execution_count": 4,
   "metadata": {},
   "outputs": [],
   "source": [
    "#input\n",
    "list_contry = ['Yemen', 'Algeria', 'Zambia']"
   ]
  },
  {
   "cell_type": "code",
   "execution_count": 14,
   "metadata": {},
   "outputs": [
    {
     "data": {
      "text/plain": [
       "64.7"
      ]
     },
     "execution_count": 14,
     "metadata": {},
     "output_type": "execute_result"
    }
   ],
   "source": [
    "dfsu5m[dfsu5m['country']==list_contry[2]]['m2017'].values[0]\n"
   ]
  },
  {
   "cell_type": "code",
   "execution_count": 26,
   "metadata": {},
   "outputs": [
    {
     "name": "stdout",
     "output_type": "stream",
     "text": [
      "Yemen\n",
      "Algeria\n",
      "Zambia\n"
     ]
    },
    {
     "data": {
      "text/plain": [
       "0.8669183017864417"
      ]
     },
     "execution_count": 26,
     "metadata": {},
     "output_type": "execute_result"
    }
   ],
   "source": [
    "U5MR = []\n",
    "for i in list_contry:\n",
    "    print(i)\n",
    "    m = dfsu5m[dfsu5m['country'] == i ]['m2017'].values[0]\n",
    "    f = dfsu5m[dfsu5m['country'] == i ]['f2017'].values[0]\n",
    "    U5MR.append(f/m)\n",
    "np.average(U5MR)"
   ]
  },
  {
   "cell_type": "markdown",
   "metadata": {},
   "source": [
    "### exercise 4\n",
    "\n",
    "For a given GDP threshold (upper limit), how much is the average percentage of under 18 migrants among all countries?\n",
    "datasets: migrants.csv and 2014_world_gdp_with_codes.csv\n",
    "\n",
    "input:\n",
    "\n",
    "    GDP threshold (float) \n",
    "    \n",
    "output:\n",
    "\n",
    "    average percentage of under 18 migrants in percent (float)"
   ]
  },
  {
   "cell_type": "code",
   "execution_count": 52,
   "metadata": {},
   "outputs": [],
   "source": [
    "df_gdp = pd.read_csv('datasets/2014_world_gdp_with_codes.csv')\n",
    "df_mig = pd.read_csv('datasets/migrants.csv')"
   ]
  },
  {
   "cell_type": "code",
   "execution_count": 53,
   "metadata": {},
   "outputs": [],
   "source": [
    "#input\n",
    "treshold_GDP = 1500"
   ]
  },
  {
   "cell_type": "code",
   "execution_count": 54,
   "metadata": {},
   "outputs": [],
   "source": [
    "df_mig = df_mig.drop(columns=['Unnamed: 0','percentarea','ccode'])\n",
    "df_gdp = df_gdp.drop(columns=['CODE'])\n",
    "#rename index\n",
    "df_mig = df_mig.rename(columns={'country':'COUNTRY'})"
   ]
  },
  {
   "cell_type": "code",
   "execution_count": 57,
   "metadata": {},
   "outputs": [],
   "source": [
    "df_merg = pd.merge(df_gdp,df_mig,how='inner',on='COUNTRY')"
   ]
  },
  {
   "cell_type": "code",
   "execution_count": 62,
   "metadata": {},
   "outputs": [
    {
     "data": {
      "text/html": [
       "<div>\n",
       "<style scoped>\n",
       "    .dataframe tbody tr th:only-of-type {\n",
       "        vertical-align: middle;\n",
       "    }\n",
       "\n",
       "    .dataframe tbody tr th {\n",
       "        vertical-align: top;\n",
       "    }\n",
       "\n",
       "    .dataframe thead th {\n",
       "        text-align: right;\n",
       "    }\n",
       "</style>\n",
       "<table border=\"1\" class=\"dataframe\">\n",
       "  <thead>\n",
       "    <tr style=\"text-align: right;\">\n",
       "      <th></th>\n",
       "      <th>COUNTRY</th>\n",
       "      <th>GDP (BILLIONS)</th>\n",
       "      <th>number1000</th>\n",
       "      <th>under18</th>\n",
       "    </tr>\n",
       "  </thead>\n",
       "  <tbody>\n",
       "    <tr>\n",
       "      <th>22</th>\n",
       "      <td>Brazil</td>\n",
       "      <td>2244.0</td>\n",
       "      <td>736</td>\n",
       "      <td>14</td>\n",
       "    </tr>\n",
       "    <tr>\n",
       "      <th>29</th>\n",
       "      <td>Canada</td>\n",
       "      <td>1794.0</td>\n",
       "      <td>7861</td>\n",
       "      <td>8</td>\n",
       "    </tr>\n",
       "    <tr>\n",
       "      <th>33</th>\n",
       "      <td>China</td>\n",
       "      <td>10360.0</td>\n",
       "      <td>1000</td>\n",
       "      <td>21</td>\n",
       "    </tr>\n",
       "    <tr>\n",
       "      <th>53</th>\n",
       "      <td>France</td>\n",
       "      <td>2902.0</td>\n",
       "      <td>7903</td>\n",
       "      <td>7</td>\n",
       "    </tr>\n",
       "    <tr>\n",
       "      <th>56</th>\n",
       "      <td>Germany</td>\n",
       "      <td>3820.0</td>\n",
       "      <td>12165</td>\n",
       "      <td>5</td>\n",
       "    </tr>\n",
       "    <tr>\n",
       "      <th>68</th>\n",
       "      <td>India</td>\n",
       "      <td>2048.0</td>\n",
       "      <td>5189</td>\n",
       "      <td>6</td>\n",
       "    </tr>\n",
       "    <tr>\n",
       "      <th>73</th>\n",
       "      <td>Italy</td>\n",
       "      <td>2129.0</td>\n",
       "      <td>5907</td>\n",
       "      <td>7</td>\n",
       "    </tr>\n",
       "    <tr>\n",
       "      <th>75</th>\n",
       "      <td>Japan</td>\n",
       "      <td>4770.0</td>\n",
       "      <td>2321</td>\n",
       "      <td>11</td>\n",
       "    </tr>\n",
       "  </tbody>\n",
       "</table>\n",
       "</div>"
      ],
      "text/plain": [
       "    COUNTRY  GDP (BILLIONS)  number1000 under18\n",
       "22   Brazil          2244.0         736      14\n",
       "29   Canada          1794.0        7861       8\n",
       "33    China         10360.0        1000      21\n",
       "53   France          2902.0        7903       7\n",
       "56  Germany          3820.0       12165       5\n",
       "68    India          2048.0        5189       6\n",
       "73    Italy          2129.0        5907       7\n",
       "75    Japan          4770.0        2321      11"
      ]
     },
     "execution_count": 62,
     "metadata": {},
     "output_type": "execute_result"
    }
   ],
   "source": [
    "df_merg_treshold = df_merg[(df_merg['GDP (BILLIONS)'] >= treshold_GDP)]\n",
    "df_merg_treshold"
   ]
  },
  {
   "cell_type": "code",
   "execution_count": 71,
   "metadata": {},
   "outputs": [
    {
     "data": {
      "text/plain": [
       "'21'"
      ]
     },
     "execution_count": 71,
     "metadata": {},
     "output_type": "execute_result"
    }
   ],
   "source": [
    "df_merg_treshold[df_merg_treshold['COUNTRY'] == 'China' ]['under18'].values[0]"
   ]
  },
  {
   "cell_type": "code",
   "execution_count": 82,
   "metadata": {},
   "outputs": [
    {
     "data": {
      "text/plain": [
       "0.004739336492890996"
      ]
     },
     "execution_count": 82,
     "metadata": {},
     "output_type": "execute_result"
    }
   ],
   "source": [
    "percentage_list = []\n",
    "for i in df_merg_treshold['COUNTRY']:\n",
    "    all_mig = df_merg_treshold[df_merg_treshold['COUNTRY'] == i ]['number1000'].values[0]\n",
    "    under18_mig = df_merg_treshold[df_merg_treshold['COUNTRY'] == i ]['under18'].values[0]\n",
    "    percentage = (int(under18_mig)/int(all_mig))\n",
    "    percentage_list.append(percentage)\n",
    "np.average(percentage)"
   ]
  },
  {
   "cell_type": "code",
   "execution_count": null,
   "metadata": {},
   "outputs": [],
   "source": []
  }
 ],
 "metadata": {
  "kernelspec": {
   "display_name": "Python 3",
   "language": "python",
   "name": "python3"
  },
  "language_info": {
   "codemirror_mode": {
    "name": "ipython",
    "version": 3
   },
   "file_extension": ".py",
   "mimetype": "text/x-python",
   "name": "python",
   "nbconvert_exporter": "python",
   "pygments_lexer": "ipython3",
   "version": "3.8.5"
  }
 },
 "nbformat": 4,
 "nbformat_minor": 4
}
